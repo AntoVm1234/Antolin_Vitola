{
  "cells": [
    {
      "cell_type": "markdown",
      "id": "66beb5a1",
      "metadata": {
        "id": "66beb5a1"
      },
      "source": [
        "# Fundamentos de Programación para Ingeniería Mecánica\n",
        "## UPB Montería - 202310\n",
        "### Taller 5: Funciones y Estructuras de Datos\n",
        "- Docente: Miguel Ortiz (miguel.ortizp@upb.edu.co)"
      ]
    },
    {
      "cell_type": "markdown",
      "id": "b4381f55",
      "metadata": {
        "id": "b4381f55"
      },
      "source": [
        "Datos del Estudiante:\n",
        "- Nombre:Antolin Vitola Montes\n",
        "- ID: 000523062\n",
        "- email: antolin.vitola@upb.edu.co"
      ]
    },
    {
      "cell_type": "markdown",
      "id": "433f35a0",
      "metadata": {
        "id": "433f35a0"
      },
      "source": [
        "> Resuelva los siguientes ejercicios utilizando **Funciones, Listas y Diccionarios**."
      ]
    },
    {
      "cell_type": "markdown",
      "id": "aead929b",
      "metadata": {
        "id": "aead929b"
      },
      "source": [
        "### Problema 1: Discurso Político (150xp)\n",
        "\n",
        "Diseñe el algoritmo y escriba un código en lenguaje de programación Python para generar discursos políticos aleatorios, teniendo en cuenta la siguiente imagen:\n",
        "\n",
        "![componentes de un discurso](https://github.com/Mikheltodd/FunProgMec_202310_Taller5/blob/main/discurso.png?raw=1)\n",
        "\n",
        "Para ello, debe solicitar al usuario el nombre del candidato, un presupuesto general, y tres (3) porcentajes que representen los dineros que destinará a diferentes sectores seleccionados de forma aleatoria (lista de beneficio populista).\n",
        "\n",
        "Crea una función sin parámetros que retorne un string con el mensaje político. Dentro de la función deben aparecer los inputs para solicitar información al usuario. Guarda el mensaje creado por la función en una variable llamada `mensaje_politico` e imprime su valor en consola. \n",
        "\n",
        "**Ejemplo:**\n",
        "\n",
        "```\n",
        ">>> Entradas:\n",
        "Ingrese nombre del candidato: Chocolove McDonell\n",
        "Ingrese presupuesto (en millones de pesos): 1250\n",
        "Ingrese Porcentaje 1: 25\n",
        "Ingrese Porcentaje 2: 30\n",
        "Ingrese Porcentaje 3: 45\n",
        ">>> Salidas:\n",
        "Estimados copartidarios. \n",
        "Mi nombre es Chocolove McDonell y hoy vengo a decirles que, con su ayuda combatiré el desplazamiento y promoveré la educación de cada colombiano. Y es por eso que hoy he venido a proponerles invertir $1250.0 millones de pesos de la siguiente manera: \n",
        " - $312.5 millones de pesos en el empleo \n",
        " - $375.0 millones de pesos en la educación \n",
        " - $562.5 millones de pesos en la salud \n",
        "```\n",
        "\n",
        "**Nota:** para seleccionar un elemento aleatorio de una lista puede utilizar la función `choice()` de la librería random:\n",
        "\n",
        "```python\n",
        "import random\n",
        "random.choice([1, 2, 3])\n",
        "```\n",
        "\n",
        "**Recomendación:** cree las variables sin acento (tildes) y en minúsculas. "
      ]
    },
    {
      "cell_type": "code",
      "execution_count": 72,
      "id": "a78382aa",
      "metadata": {
        "id": "a78382aa",
        "outputId": "608b63cc-d5d4-432e-b7e4-576ae81ebb05",
        "colab": {
          "base_uri": "https://localhost:8080/"
        }
      },
      "outputs": [
        {
          "output_type": "stream",
          "name": "stdout",
          "text": [
            "ingresar nombre:)anto\n",
            "ingresar presupuesto)123456789\n",
            "{1: ['queridos ', 'apreciados ', 'distinguidos ', 'honorables', 'estimados ', 'respetados '], 2: ['compatriotas ', 'copartidarios ', 'amigos ', 'coterraneos ', 'conciudadanos ', 'electores '], 3: ['en mi gobierno', 'con su apoyo ', 'siendo elegido ', 'con su ayudasi me siguen ', 'durante mi mandato'], 4: ['voy a derrotar ', 'vencere', 'eliminare ', 'acabare', 'luchare contra ', 'combatire '], 5: ['la violencia y ', 'la delicuencia y', 'la corrupcion y ', 'la inflacion y ', 'la pobreza y ', 'el desplazamiento y '], 6: ['trabajare por ', 'garantizare ', 'protegere ', 'velare por ', 'promevere ', 'defendere '], 7: ['la educacion ', 'el empleo ', 'la seguridad ', 'la paz ', 'la igualdad ', 'la salud '], 8: ['del pais. ', 'de la ciudad. ', 'de la comunidad. ', 'de la poblacion. ', 'para toda la gente. ', 'de cada colombiano.']}\n",
            "{1: ['queridos ', 'apreciados ', 'distinguidos ', 'honorables', 'estimados ', 'respetados '], 2: ['compatriotas ', 'copartidarios ', 'amigos ', 'coterraneos ', 'conciudadanos ', 'electores '], 3: ['en mi gobierno', 'con su apoyo ', 'siendo elegido ', 'con su ayudasi me siguen ', 'durante mi mandato'], 4: ['voy a derrotar ', 'vencere', 'eliminare ', 'acabare', 'luchare contra ', 'combatire '], 5: ['la violencia y ', 'la delicuencia y', 'la corrupcion y ', 'la inflacion y ', 'la pobreza y ', 'el desplazamiento y '], 6: ['trabajare por ', 'garantizare ', 'protegere ', 'velare por ', 'promevere ', 'defendere '], 7: ['la educacion ', 'el empleo ', 'la seguridad ', 'la paz ', 'la igualdad ', 'la salud '], 8: ['del pais. ', 'de la ciudad. ', 'de la comunidad. ', 'de la poblacion. ', 'para toda la gente. ', 'de cada colombiano.']}\n"
          ]
        }
      ],
      "source": [
        "def mensaje_politico():\n",
        "  name = input(\"ingrese nombre del candidato:\") \n",
        "  presupuesto = int(input(\"ingrese presupuesto:\"))\n",
        "  zona = \"educacion\", \"empleo\", \"seguridad\", \"paz\", \"igualdad\", \"salud\"\n",
        "  beneficios =(20)\n",
        "  \n",
        "  for i in range (3):\n",
        "   porcentaje_1: 25\n",
        "   porcentaje_2: 30\n",
        "   porcentaje_3: 45\n",
        "\n",
        "\n",
        "name = input(\"ingresar nombre:)\")\n",
        "presupuesto = input(\"ingresar presupuesto)\")\n",
        "\n",
        "titulo = ['queridos ', 'apreciados ', 'distinguidos ', 'honorables', 'estimados ', 'respetados ']\n",
        "publico_objetivo = ['compatriotas ', 'copartidarios ', 'amigos ', 'coterraneos ', 'conciudadanos ', 'electores ']\n",
        "condicion = ['en mi gobierno', 'con su apoyo ', 'siendo elegido ', 'con su ayuda' 'si me siguen ', 'durante mi mandato']\n",
        "compromiso = ['voy a derrotar ', 'vencere', 'eliminare ', 'acabare', 'luchare contra ', 'combatire ']\n",
        "ilusion_de_lucha = ['la violencia y ', 'la delicuencia y', 'la corrupcion y ', 'la inflacion y ', 'la pobreza y ', 'el desplazamiento y ']\n",
        "promesa = ['trabajare por ', 'garantizare ', 'protegere ', 'velare por ', 'promevere ', 'defendere ']\n",
        "beneficio_populista = ['la educacion ', 'el empleo ', 'la seguridad ', 'la paz ', 'la igualdad ', 'la salud ']\n",
        "dependiendo_de_la_cantidad_de_votos = ['del pais. ', 'de la ciudad. ', 'de la comunidad. ', 'de la poblacion. ', 'para toda la gente. ', 'de cada colombiano.']\n",
        "\n",
        "mensaje_politico = {1: titulo, 2: publico_objetivo, 3: condicion, 4: compromiso, 5: ilusion_de_lucha, 6:promesa, 7:beneficio_populista, 8: dependiendo_de_la_cantidad_de_votos}\n",
        "mensaje_poltico = ''\n",
        "print(mensaje_politico)\n",
        "\n",
        "import random\n",
        "lineas = 1\n",
        "for i in range(lineas):\n",
        "  for values in mi_listado:(20)\n",
        "  print(mensaje_politico)\n",
        "\n",
        "\n",
        "\n",
        "  \n"
      ]
    },
    {
      "cell_type": "code",
      "execution_count": null,
      "id": "81812b6a",
      "metadata": {
        "id": "81812b6a"
      },
      "outputs": [],
      "source": []
    }
  ],
  "metadata": {
    "kernelspec": {
      "display_name": "Python 3 (ipykernel)",
      "language": "python",
      "name": "python3"
    },
    "language_info": {
      "codemirror_mode": {
        "name": "ipython",
        "version": 3
      },
      "file_extension": ".py",
      "mimetype": "text/x-python",
      "name": "python",
      "nbconvert_exporter": "python",
      "pygments_lexer": "ipython3",
      "version": "3.10.6"
    },
    "colab": {
      "provenance": []
    }
  },
  "nbformat": 4,
  "nbformat_minor": 5
}